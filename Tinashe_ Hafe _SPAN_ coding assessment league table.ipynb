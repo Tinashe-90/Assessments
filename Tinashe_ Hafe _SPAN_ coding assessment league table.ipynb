{
 "cells": [
  {
   "cell_type": "markdown",
   "id": "13ee2c72",
   "metadata": {},
   "source": [
    "#           \n",
    "           Tinashe Hafe\n",
    "           ### QUESTION\n",
    "            create a production ready, maintainable, testable command-line application that\n",
    "will calculate the ranking table for a league.\n",
    "\n"
   ]
  },
  {
   "cell_type": "code",
   "execution_count": 23,
   "id": "a591674e",
   "metadata": {},
   "outputs": [],
   "source": [
    "import math\n",
    "import random\n"
   ]
  },
  {
   "cell_type": "code",
   "execution_count": null,
   "id": "c73a211f",
   "metadata": {},
   "outputs": [],
   "source": [
    "#Lambda value in Poisson distribution for higher rated team\n",
    "lambOne = 1.148698355\n",
    "#Lambda value for lower rated team\n",
    "lambTwo = 0.8705505633\n",
    "\n",
    "#Poisson distribution calculating goals scored by the home team\n",
    "def homeMatch(homeRating,awayRating):\n",
    "    global lambOne\n",
    "    global x\n",
    "    global y\n",
    "    if x == y:\n",
    "        raise ValueError\n",
    "    else:\n",
    "        lamb = lambOne**(int(homeRating)-int(awayRating))\n",
    "        homeScore = 0\n",
    "        z = random.random()    \n",
    "        while z > 0:\n",
    "            z = z - ((lamb**homeScore * math.exp(lamb * -1))/(math.factorial(homeScore)))\n",
    "            homeScore += 1\n",
    "        return (homeScore-1)\n",
    "\n",
    "#Poisson distribution calculating goals scored by away team\n",
    "def awayMatch(homeRating,awayRating):\n",
    "    global lambTwo\n",
    "    global x\n",
    "    global y\n",
    "    #This check is to stop a team playing itself\n",
    "    if x == y:\n",
    "        raise ValueError\n",
    "    else:\n",
    "        lamb = lambTwo**(int(homeRating)-int(awayRating))\n",
    "        awayScore = 0\n",
    "        z = random.random()    \n",
    "        while z > 0:\n",
    "            z = z - ((lamb**awayScore * math.exp(lamb * -1))/(math.factorial(awayScore)))\n",
    "            awayScore += 1\n",
    "        return (awayScore-1)\n",
    "\n",
    "#Selecting number of teams in league\n",
    "leagueSize = int(input(\"Enter number of teams in league: \"))\n",
    "\n",
    "#Initialising empty lists\n",
    "teamNames = []\n",
    "teamSkill = []\n",
    "teamPoints = []\n",
    "teamFor = []\n",
    "teamAgainst = []\n",
    "teamWins = []\n",
    "teamDraws = []\n",
    "teamLosses = []\n",
    "\n",
    "#Populating lists with number of zeroes equal to the number of teams (one zero for each)\n",
    "for x in range(leagueSize):\n",
    "    teamPoints += [0]\n",
    "    teamFor += [0]\n",
    "    teamAgainst += [0]\n",
    "    teamWins += [0]\n",
    "    teamDraws += [0]\n",
    "    teamLosses += [0]\n",
    "\n",
    "#Entering names and skill ratings for each team\n",
    "for i in range(leagueSize):\n",
    "    teamNames += [input(\"Enter team \"+str(i+1)+\" name: \")]\n",
    "for j in range(leagueSize):\n",
    "    teamSkill += [input(\"Enter \"+teamNames[j]+\" skill: \")]\n",
    "\n",
    "#Initialising variables\n",
    "homeScore = 0\n",
    "awayScore = 0\n",
    "\n",
    "#The season begins - each team plays all of its home games in one go\n",
    "for x in range(leagueSize):\n",
    "    #input(\"Press enter to continue \")\n",
    "    print(\"===========================================\")\n",
    "    print(teamNames[x]+\"'s home games: \")\n",
    "    print(\"===========================================\\n\")\n",
    "    for y in range(leagueSize):\n",
    "        error = 0\n",
    "        try:\n",
    "            homeScore = homeMatch(teamSkill[x],teamSkill[y])\n",
    "        #Skipping a game to stop a team playing itself\n",
    "        except ValueError:\n",
    "            pass\n",
    "            error += 1\n",
    "        try:\n",
    "            awayScore = awayMatch(teamSkill[x],teamSkill[y])\n",
    "        except ValueError:\n",
    "            pass\n",
    "        if error == 0:\n",
    "            #Updating lists\n",
    "            print(teamNames[x],homeScore,\"-\",awayScore,teamNames[y],\"\\n\")\n",
    "            teamFor[x] += homeScore\n",
    "            teamFor[y] += awayScore\n",
    "            teamAgainst[x] += awayScore\n",
    "            teamAgainst[y] += homeScore\n",
    "            if homeScore > awayScore:\n",
    "                teamWins[x] += 1\n",
    "                teamLosses[y] += 1\n",
    "                teamPoints[x] += 3\n",
    "            elif homeScore == awayScore:\n",
    "                teamDraws[x] += 1\n",
    "                teamDraws[y] += 1\n",
    "                teamPoints[x] += 1\n",
    "                teamPoints[y] += 1\n",
    "            else:\n",
    "                teamWins[y] += 1\n",
    "                teamLosses[x] += 1\n",
    "                teamPoints[y] += 3\n",
    "        else:\n",
    "            pass\n",
    "\n",
    "#Printing table (unsorted)\n",
    "print(\"Final table: \")\n",
    "for x in range(leagueSize):\n",
    "    #Lots of formatting\n",
    "    print(teamNames[x]+(15-len(teamNames[x]))*\" \"+\" Skill: \"+str(teamSkill[x])+(5-len(str(teamSkill[x])))*\" \"+\" Points: \"+str(teamPoints[x])+(5-len(str(teamPoints[x])))*\" \"+\" For: \"+str(teamFor[x])+(5-len(str(teamFor[x])))*\" \"+\" Against: \"+str(teamAgainst[x])+(5-len(str(teamPoints[x])))*\" \"+\" Goal difference: \"+str(teamFor[x]-teamAgainst[x])+(5-len(str(teamFor[x]-teamAgainst[x])))*\" \"+\" Wins: \"+str(teamWins[x])+(5-len(str(teamWins[x])))*\" \"+\" Draws: \"+str(teamDraws[x])+(5-len(str(teamDraws[x])))*\" \"+\" Losses: \"+str(teamLosses[x])+(5-len(str(teamLosses[x])))*\" \")\n",
    "teamPoints.sort()\n",
    "print(teamPoints)"
   ]
  },
  {
   "cell_type": "code",
   "execution_count": 14,
   "id": "2138f3a8",
   "metadata": {},
   "outputs": [
    {
     "name": "stdout",
     "output_type": "stream",
     "text": [
      "[1, 4, 12]\n"
     ]
    }
   ],
   "source": [
    "teamPoints.sort()\n",
    "print(teamPoints)"
   ]
  },
  {
   "cell_type": "code",
   "execution_count": 19,
   "id": "a53287b0",
   "metadata": {},
   "outputs": [],
   "source": [
    "# def teamPoints(self, rank):\n",
    "#         ranks = [(-counter['score'], counter['games_played'], i, name)\n",
    "#                  for i, (name, counter) in enumerate(self.standings.items())]\n",
    "\n",
    "#         return sorted(ranks)[rank-1][3]\n",
    "    "
   ]
  },
  {
   "cell_type": "code",
   "execution_count": 20,
   "id": "c52f15bb",
   "metadata": {},
   "outputs": [
    {
     "name": "stdout",
     "output_type": "stream",
     "text": [
      "You are about to get the Person on the selected position as rank\n"
     ]
    }
   ],
   "source": [
    "print ('You are about to get the Person on the selected position as rank')\n",
    "       "
   ]
  },
  {
   "cell_type": "code",
   "execution_count": 22,
   "id": "21443408",
   "metadata": {},
   "outputs": [
    {
     "ename": "NameError",
     "evalue": "name 'teamPoints_rank' is not defined",
     "output_type": "error",
     "traceback": [
      "\u001b[1;31m---------------------------------------------------------------------------\u001b[0m",
      "\u001b[1;31mNameError\u001b[0m                                 Traceback (most recent call last)",
      "\u001b[1;32m~\\AppData\\Local\\Temp/ipykernel_10580/2772515961.py\u001b[0m in \u001b[0;36m<module>\u001b[1;34m\u001b[0m\n\u001b[1;32m----> 1\u001b[1;33m \u001b[0mprint\u001b[0m\u001b[1;33m(\u001b[0m\u001b[0mteamPoints_rank\u001b[0m\u001b[1;33m(\u001b[0m\u001b[1;36m1\u001b[0m\u001b[1;33m)\u001b[0m\u001b[1;33m)\u001b[0m\u001b[1;33m\u001b[0m\u001b[1;33m\u001b[0m\u001b[0m\n\u001b[0m",
      "\u001b[1;31mNameError\u001b[0m: name 'teamPoints_rank' is not defined"
     ]
    }
   ],
   "source": [
    "#print(teamPoints_rank(1))"
   ]
  },
  {
   "cell_type": "code",
   "execution_count": null,
   "id": "e6ee71a1",
   "metadata": {},
   "outputs": [],
   "source": []
  }
 ],
 "metadata": {
  "kernelspec": {
   "display_name": "Python 3 (ipykernel)",
   "language": "python",
   "name": "python3"
  },
  "language_info": {
   "codemirror_mode": {
    "name": "ipython",
    "version": 3
   },
   "file_extension": ".py",
   "mimetype": "text/x-python",
   "name": "python",
   "nbconvert_exporter": "python",
   "pygments_lexer": "ipython3",
   "version": "3.9.7"
  }
 },
 "nbformat": 4,
 "nbformat_minor": 5
}
